{
 "cells": [
  {
   "cell_type": "markdown",
   "id": "d0e7e04d-9a88-40c2-95a8-6c9535cb83fc",
   "metadata": {},
   "source": [
    "<a href=\"https://colab.research.google.com/github/hayashiyus/First-steps-towards-Deep-Learning/blob/main/16_Probability_theory.ipynb\" target=\"_parent\">\n",
    " <img src=\"https://colab.research.google.com/assets/colab-badge.svg\" alt=\"Open In Colab\"/>\n",
    "</a>"
   ]
  },
  {
   "cell_type": "code",
   "execution_count": 1,
   "id": "095bbafc-1b04-4210-b888-bd17190c003f",
   "metadata": {},
   "outputs": [
    {
     "name": "stdout",
     "output_type": "stream",
     "text": [
      "Defaulting to user installation because normal site-packages is not writeable\n",
      "Requirement already satisfied: mplcyberpunk in /Users/Yusuke.Hayashi/Library/Python/3.9/lib/python/site-packages (0.6.0)\n",
      "Requirement already satisfied: matplotlib in /Users/Yusuke.Hayashi/Library/Python/3.9/lib/python/site-packages (from mplcyberpunk) (3.6.0)\n",
      "Requirement already satisfied: python-dateutil>=2.7 in /Users/Yusuke.Hayashi/Library/Python/3.9/lib/python/site-packages (from matplotlib->mplcyberpunk) (2.8.2)\n",
      "Requirement already satisfied: contourpy>=1.0.1 in /Users/Yusuke.Hayashi/Library/Python/3.9/lib/python/site-packages (from matplotlib->mplcyberpunk) (1.0.5)\n",
      "Requirement already satisfied: kiwisolver>=1.0.1 in /Users/Yusuke.Hayashi/Library/Python/3.9/lib/python/site-packages (from matplotlib->mplcyberpunk) (1.4.4)\n",
      "Requirement already satisfied: pillow>=6.2.0 in /Users/Yusuke.Hayashi/Library/Python/3.9/lib/python/site-packages (from matplotlib->mplcyberpunk) (9.2.0)\n",
      "Requirement already satisfied: fonttools>=4.22.0 in /Users/Yusuke.Hayashi/Library/Python/3.9/lib/python/site-packages (from matplotlib->mplcyberpunk) (4.37.3)\n",
      "Requirement already satisfied: pyparsing>=2.2.1 in /Users/Yusuke.Hayashi/Library/Python/3.9/lib/python/site-packages (from matplotlib->mplcyberpunk) (3.0.9)\n",
      "Requirement already satisfied: packaging>=20.0 in /Users/Yusuke.Hayashi/Library/Python/3.9/lib/python/site-packages (from matplotlib->mplcyberpunk) (21.3)\n",
      "Requirement already satisfied: cycler>=0.10 in /Users/Yusuke.Hayashi/Library/Python/3.9/lib/python/site-packages (from matplotlib->mplcyberpunk) (0.11.0)\n",
      "Requirement already satisfied: numpy>=1.19 in /Users/Yusuke.Hayashi/Library/Python/3.9/lib/python/site-packages (from matplotlib->mplcyberpunk) (1.22.4)\n",
      "Requirement already satisfied: six>=1.5 in /Library/Developer/CommandLineTools/Library/Frameworks/Python3.framework/Versions/3.9/lib/python3.9/site-packages (from python-dateutil>=2.7->matplotlib->mplcyberpunk) (1.15.0)\n",
      "Defaulting to user installation because normal site-packages is not writeable\n",
      "Requirement already satisfied: watermark in /Users/Yusuke.Hayashi/Library/Python/3.9/lib/python/site-packages (2.3.1)\n",
      "Requirement already satisfied: ipython in /Users/Yusuke.Hayashi/Library/Python/3.9/lib/python/site-packages (from watermark) (8.5.0)\n",
      "Requirement already satisfied: pygments>=2.4.0 in /Users/Yusuke.Hayashi/Library/Python/3.9/lib/python/site-packages (from ipython->watermark) (2.13.0)\n",
      "Requirement already satisfied: decorator in /Users/Yusuke.Hayashi/Library/Python/3.9/lib/python/site-packages (from ipython->watermark) (5.1.1)\n",
      "Requirement already satisfied: jedi>=0.16 in /Users/Yusuke.Hayashi/Library/Python/3.9/lib/python/site-packages (from ipython->watermark) (0.18.1)\n",
      "Requirement already satisfied: matplotlib-inline in /Users/Yusuke.Hayashi/Library/Python/3.9/lib/python/site-packages (from ipython->watermark) (0.1.6)\n",
      "Requirement already satisfied: prompt-toolkit<3.1.0,>3.0.1 in /Users/Yusuke.Hayashi/Library/Python/3.9/lib/python/site-packages (from ipython->watermark) (3.0.31)\n",
      "Requirement already satisfied: pexpect>4.3 in /Users/Yusuke.Hayashi/Library/Python/3.9/lib/python/site-packages (from ipython->watermark) (4.8.0)\n",
      "Requirement already satisfied: appnope in /Users/Yusuke.Hayashi/Library/Python/3.9/lib/python/site-packages (from ipython->watermark) (0.1.3)\n",
      "Requirement already satisfied: traitlets>=5 in /Users/Yusuke.Hayashi/Library/Python/3.9/lib/python/site-packages (from ipython->watermark) (5.4.0)\n",
      "Requirement already satisfied: stack-data in /Users/Yusuke.Hayashi/Library/Python/3.9/lib/python/site-packages (from ipython->watermark) (0.5.0)\n",
      "Requirement already satisfied: backcall in /Users/Yusuke.Hayashi/Library/Python/3.9/lib/python/site-packages (from ipython->watermark) (0.2.0)\n",
      "Requirement already satisfied: pickleshare in /Users/Yusuke.Hayashi/Library/Python/3.9/lib/python/site-packages (from ipython->watermark) (0.7.5)\n",
      "Requirement already satisfied: parso<0.9.0,>=0.8.0 in /Users/Yusuke.Hayashi/Library/Python/3.9/lib/python/site-packages (from jedi>=0.16->ipython->watermark) (0.8.3)\n",
      "Requirement already satisfied: ptyprocess>=0.5 in /Users/Yusuke.Hayashi/Library/Python/3.9/lib/python/site-packages (from pexpect>4.3->ipython->watermark) (0.7.0)\n",
      "Requirement already satisfied: wcwidth in /Users/Yusuke.Hayashi/Library/Python/3.9/lib/python/site-packages (from prompt-toolkit<3.1.0,>3.0.1->ipython->watermark) (0.2.5)\n",
      "Requirement already satisfied: pure-eval in /Users/Yusuke.Hayashi/Library/Python/3.9/lib/python/site-packages (from stack-data->ipython->watermark) (0.2.2)\n",
      "Requirement already satisfied: asttokens in /Users/Yusuke.Hayashi/Library/Python/3.9/lib/python/site-packages (from stack-data->ipython->watermark) (2.0.8)\n",
      "Requirement already satisfied: executing in /Users/Yusuke.Hayashi/Library/Python/3.9/lib/python/site-packages (from stack-data->ipython->watermark) (1.0.0)\n",
      "Requirement already satisfied: six in /Library/Developer/CommandLineTools/Library/Frameworks/Python3.framework/Versions/3.9/lib/python3.9/site-packages (from asttokens->stack-data->ipython->watermark) (1.15.0)\n"
     ]
    }
   ],
   "source": [
    "#@title install packages\n",
    "!pip install mplcyberpunk\n",
    "!pip install watermark"
   ]
  },
  {
   "cell_type": "code",
   "execution_count": 2,
   "id": "e36c7994-3d94-4b41-bfbc-79bbeeac5559",
   "metadata": {},
   "outputs": [],
   "source": [
    "import mplcyberpunk"
   ]
  },
  {
   "cell_type": "code",
   "execution_count": 3,
   "id": "a69f9bff-ddae-4b9b-aa94-7086d125eec2",
   "metadata": {},
   "outputs": [
    {
     "name": "stderr",
     "output_type": "stream",
     "text": [
      "/Users/Yusuke.Hayashi/Library/Python/3.9/lib/python/site-packages/torchvision/io/image.py:13: UserWarning: Failed to load image Python extension: dlopen(/Users/Yusuke.Hayashi/Library/Python/3.9/lib/python/site-packages/torchvision/image.so, 0x0006): Symbol not found: __ZN2at4_ops19empty_memory_format4callEN3c108ArrayRefIxEENS2_8optionalINS2_10ScalarTypeEEENS5_INS2_6LayoutEEENS5_INS2_6DeviceEEENS5_IbEENS5_INS2_12MemoryFormatEEE\n",
      "  Referenced from: <8080486D-E510-3000-AA6A-F3AD49ACC172> /Users/Yusuke.Hayashi/Library/Python/3.9/lib/python/site-packages/torchvision/image.so\n",
      "  Expected in:     <EBBC8B94-2FD8-3694-B341-8B60B237B8E9> /Users/Yusuke.Hayashi/Library/Python/3.9/lib/python/site-packages/torch/lib/libtorch_cpu.dylib\n",
      "  warn(f\"Failed to load image Python extension: {e}\")\n"
     ]
    }
   ],
   "source": [
    "import re\n",
    "import os\n",
    "import PIL\n",
    "import copy\n",
    "import random\n",
    "import numpy as np\n",
    "import pandas as pd\n",
    "from matplotlib import cm\n",
    "import matplotlib.pyplot as plt\n",
    "import torch\n",
    "from torch import nn, optim\n",
    "import torch.nn.functional as F\n",
    "from torch.utils.data import TensorDataset, DataLoader\n",
    "import torchvision\n",
    "import torchvision.transforms as transforms\n",
    "from sklearn.model_selection import train_test_split"
   ]
  },
  {
   "cell_type": "code",
   "execution_count": 4,
   "id": "7bd770b7-bf0d-4bde-be72-4c44d4fbd021",
   "metadata": {},
   "outputs": [],
   "source": [
    "import warnings\n",
    "warnings.simplefilter('ignore')"
   ]
  },
  {
   "cell_type": "code",
   "execution_count": 5,
   "id": "dda32f09-bec5-45c0-9bdc-66ca50324f47",
   "metadata": {},
   "outputs": [],
   "source": [
    "device = torch.device('cuda:0' if torch.cuda.is_available() else 'cpu')"
   ]
  },
  {
   "cell_type": "markdown",
   "id": "f7eef058-55cf-4f49-94d9-736ce8b40914",
   "metadata": {},
   "source": [
    "### **0.　準備**\n",
    "ドロップアウト，重み減衰を実装するために，ベースとなるCNNモデルを準備します．"
   ]
  },
  {
   "cell_type": "code",
   "execution_count": 6,
   "id": "0e59d072-4d86-4d14-9b1b-3f9a17d454ab",
   "metadata": {},
   "outputs": [
    {
     "name": "stdout",
     "output_type": "stream",
     "text": [
      "Files already downloaded and verified\n",
      "Files already downloaded and verified\n"
     ]
    }
   ],
   "source": [
    "transform = transforms.Compose(\n",
    "    [transforms.ToTensor(),\n",
    "     transforms.Normalize((0.5, 0.5, 0.5), (0.5, 0.5, 0.5))])\n",
    "\n",
    "batch_size = 4\n",
    "\n",
    "trainset = torchvision.datasets.CIFAR10(root='./data', train=True,\n",
    "                                        download=True, transform=transform)\n",
    "trainloader = torch.utils.data.DataLoader(trainset, batch_size=batch_size,\n",
    "                                          shuffle=True, num_workers=2)\n",
    "\n",
    "testset = torchvision.datasets.CIFAR10(root='./data', train=False,\n",
    "                                       download=True, transform=transform)\n",
    "testloader = torch.utils.data.DataLoader(testset, batch_size=batch_size,\n",
    "                                         shuffle=False, num_workers=2)\n",
    "\n",
    "classes = ('plane', 'car', 'bird', 'cat',\n",
    "           'deer', 'dog', 'frog', 'horse', 'ship', 'truck')"
   ]
  },
  {
   "cell_type": "code",
   "execution_count": 7,
   "id": "9311e5d0-c595-4915-ad50-1c89374c920e",
   "metadata": {},
   "outputs": [
    {
     "name": "stderr",
     "output_type": "stream",
     "text": [
      "/Users/Yusuke.Hayashi/Library/Python/3.9/lib/python/site-packages/torchvision/io/image.py:13: UserWarning: Failed to load image Python extension: dlopen(/Users/Yusuke.Hayashi/Library/Python/3.9/lib/python/site-packages/torchvision/image.so, 0x0006): Symbol not found: __ZN2at4_ops19empty_memory_format4callEN3c108ArrayRefIxEENS2_8optionalINS2_10ScalarTypeEEENS5_INS2_6LayoutEEENS5_INS2_6DeviceEEENS5_IbEENS5_INS2_12MemoryFormatEEE\n",
      "  Referenced from: <8080486D-E510-3000-AA6A-F3AD49ACC172> /Users/Yusuke.Hayashi/Library/Python/3.9/lib/python/site-packages/torchvision/image.so\n",
      "  Expected in:     <EBBC8B94-2FD8-3694-B341-8B60B237B8E9> /Users/Yusuke.Hayashi/Library/Python/3.9/lib/python/site-packages/torch/lib/libtorch_cpu.dylib\n",
      "  warn(f\"Failed to load image Python extension: {e}\")\n",
      "/Users/Yusuke.Hayashi/Library/Python/3.9/lib/python/site-packages/torchvision/io/image.py:13: UserWarning: Failed to load image Python extension: dlopen(/Users/Yusuke.Hayashi/Library/Python/3.9/lib/python/site-packages/torchvision/image.so, 0x0006): Symbol not found: __ZN2at4_ops19empty_memory_format4callEN3c108ArrayRefIxEENS2_8optionalINS2_10ScalarTypeEEENS5_INS2_6LayoutEEENS5_INS2_6DeviceEEENS5_IbEENS5_INS2_12MemoryFormatEEE\n",
      "  Referenced from: <8080486D-E510-3000-AA6A-F3AD49ACC172> /Users/Yusuke.Hayashi/Library/Python/3.9/lib/python/site-packages/torchvision/image.so\n",
      "  Expected in:     <EBBC8B94-2FD8-3694-B341-8B60B237B8E9> /Users/Yusuke.Hayashi/Library/Python/3.9/lib/python/site-packages/torch/lib/libtorch_cpu.dylib\n",
      "  warn(f\"Failed to load image Python extension: {e}\")\n"
     ]
    },
    {
     "data": {
      "image/png": "[encoded data removed]",
      "text/plain": [
       "<Figure size 640x480 with 1 Axes>"
      ]
     },
     "metadata": {},
     "output_type": "display_data"
    },
    {
     "name": "stdout",
     "output_type": "stream",
     "text": [
      "horse cat   bird  dog  \n"
     ]
    }
   ],
   "source": [
    "def imshow(img):\n",
    "    img = img / 2 + 0.5     # unnormalize\n",
    "    npimg = img.numpy()\n",
    "    plt.imshow(np.transpose(npimg, (1, 2, 0)))\n",
    "    plt.show()\n",
    "\n",
    "# get some random training images\n",
    "dataiter = iter(trainloader)\n",
    "images, labels = next(dataiter)\n",
    "\n",
    "# show images\n",
    "plt.style.use(\"cyberpunk\")\n",
    "imshow(torchvision.utils.make_grid(images))\n",
    "# print labels\n",
    "print(' '.join(f'{classes[labels[j]]:5s}' for j in range(batch_size)))"
   ]
  },
  {
   "cell_type": "code",
   "execution_count": 8,
   "id": "bad5c35e-6086-4230-a863-c758bba53454",
   "metadata": {},
   "outputs": [],
   "source": [
    "class CNN(nn.Module):\n",
    "    def __init__(self):\n",
    "        super().__init__()\n",
    "        self.conv1 = nn.Conv2d(3, 6, 5)\n",
    "        self.pool = nn.MaxPool2d(2, 2)\n",
    "        self.conv2 = nn.Conv2d(6, 16, 5)\n",
    "        self.fc1 = nn.Linear(16 * 5 * 5, 120)\n",
    "        self.fc2 = nn.Linear(120, 84)\n",
    "        self.fc3 = nn.Linear(84, 10)\n",
    "\n",
    "    def forward(self, x):\n",
    "        x = self.pool(F.relu(self.conv1(x)))\n",
    "        x = self.pool(F.relu(self.conv2(x)))\n",
    "        x = torch.flatten(x, 1) # flatten all dimensions except batch\n",
    "        x = F.relu(self.fc1(x))\n",
    "        x = F.relu(self.fc2(x))\n",
    "        x = self.fc3(x)\n",
    "        return x"
   ]
  },
  {
   "cell_type": "code",
   "execution_count": 9,
   "id": "92624ad8-a67e-4b0b-917d-11b114fbbb3b",
   "metadata": {},
   "outputs": [
    {
     "name": "stderr",
     "output_type": "stream",
     "text": [
      "/Users/Yusuke.Hayashi/Library/Python/3.9/lib/python/site-packages/torchvision/io/image.py:13: UserWarning: Failed to load image Python extension: dlopen(/Users/Yusuke.Hayashi/Library/Python/3.9/lib/python/site-packages/torchvision/image.so, 0x0006): Symbol not found: __ZN2at4_ops19empty_memory_format4callEN3c108ArrayRefIxEENS2_8optionalINS2_10ScalarTypeEEENS5_INS2_6LayoutEEENS5_INS2_6DeviceEEENS5_IbEENS5_INS2_12MemoryFormatEEE\n",
      "  Referenced from: <8080486D-E510-3000-AA6A-F3AD49ACC172> /Users/Yusuke.Hayashi/Library/Python/3.9/lib/python/site-packages/torchvision/image.so\n",
      "  Expected in:     <EBBC8B94-2FD8-3694-B341-8B60B237B8E9> /Users/Yusuke.Hayashi/Library/Python/3.9/lib/python/site-packages/torch/lib/libtorch_cpu.dylib\n",
      "  warn(f\"Failed to load image Python extension: {e}\")\n",
      "/Users/Yusuke.Hayashi/Library/Python/3.9/lib/python/site-packages/torchvision/io/image.py:13: UserWarning: Failed to load image Python extension: dlopen(/Users/Yusuke.Hayashi/Library/Python/3.9/lib/python/site-packages/torchvision/image.so, 0x0006): Symbol not found: __ZN2at4_ops19empty_memory_format4callEN3c108ArrayRefIxEENS2_8optionalINS2_10ScalarTypeEEENS5_INS2_6LayoutEEENS5_INS2_6DeviceEEENS5_IbEENS5_INS2_12MemoryFormatEEE\n",
      "  Referenced from: <8080486D-E510-3000-AA6A-F3AD49ACC172> /Users/Yusuke.Hayashi/Library/Python/3.9/lib/python/site-packages/torchvision/image.so\n",
      "  Expected in:     <EBBC8B94-2FD8-3694-B341-8B60B237B8E9> /Users/Yusuke.Hayashi/Library/Python/3.9/lib/python/site-packages/torch/lib/libtorch_cpu.dylib\n",
      "  warn(f\"Failed to load image Python extension: {e}\")\n"
     ]
    },
    {
     "name": "stdout",
     "output_type": "stream",
     "text": [
      "batch size: torch.Size([4, 3, 32, 32])\n",
      "torch.Size([4, 10])\n"
     ]
    }
   ],
   "source": [
    "## test the model with 1 batch\n",
    "model = CNN()\n",
    "for images, labels in trainloader:\n",
    "    print(\"batch size:\", images.shape)\n",
    "    y_hat = model(images)\n",
    "    print(y_hat.shape)\n",
    "    break"
   ]
  },
  {
   "cell_type": "markdown",
   "id": "ce5f2763-e9a1-4c15-8709-9dbcd931711e",
   "metadata": {},
   "source": [
    "### **1.　ドロップアウト**"
   ]
  },
  {
   "cell_type": "markdown",
   "id": "ab8d7a9c-d82a-4087-80c9-9f2749105d00",
   "metadata": {},
   "source": [
    "##### **問1：ドロップアウトの実装**\n",
    "MNISTを学習するCNNモデルを作成し，学習時にL2正則化を適用してください．"
   ]
  },
  {
   "cell_type": "code",
   "execution_count": 10,
   "id": "3e0ed116-c681-4e3f-9590-c12c655491eb",
   "metadata": {},
   "outputs": [],
   "source": [
    "class CNN_with_Dropout(nn.Module):\n",
    "    def __init__(self):\n",
    "        super().__init__()\n",
    "        self.conv1 = nn.Conv2d(3, 6, 5)\n",
    "        self.pool = nn.MaxPool2d(2, 2)\n",
    "        self.conv2 = nn.Conv2d(6, 16, 5)\n",
    "        self.fc1 = nn.Linear(16 * 5 * 5, 120)\n",
    "        self.fc2 = nn.Linear(120, 84)\n",
    "        self.fc3 = nn.Linear(84, 10)\n",
    "        # Define proportion or neurons to dropout\n",
    "        self.dropout = nn.Dropout(0.2)\n",
    "\n",
    "    def forward(self, x):\n",
    "        x = self.pool(F.relu(self.conv1(x)))\n",
    "        x = self.pool(F.relu(self.conv2(x)))\n",
    "        x = torch.flatten(x, 1) # flatten all dimensions except batch\n",
    "        x = F.relu(self.fc1(x))\n",
    "        x = self.dropout(x)\n",
    "        x = F.relu(self.fc2(x))\n",
    "        x = self.dropout(x)\n",
    "        x = self.fc3(x)\n",
    "        return x"
   ]
  },
  {
   "cell_type": "code",
   "execution_count": 11,
   "id": "221f5d02-935b-4070-aeee-5c6028cc9cb6",
   "metadata": {},
   "outputs": [
    {
     "name": "stderr",
     "output_type": "stream",
     "text": [
      "/Users/Yusuke.Hayashi/Library/Python/3.9/lib/python/site-packages/torchvision/io/image.py:13: UserWarning: Failed to load image Python extension: dlopen(/Users/Yusuke.Hayashi/Library/Python/3.9/lib/python/site-packages/torchvision/image.so, 0x0006): Symbol not found: __ZN2at4_ops19empty_memory_format4callEN3c108ArrayRefIxEENS2_8optionalINS2_10ScalarTypeEEENS5_INS2_6LayoutEEENS5_INS2_6DeviceEEENS5_IbEENS5_INS2_12MemoryFormatEEE\n",
      "  Referenced from: <8080486D-E510-3000-AA6A-F3AD49ACC172> /Users/Yusuke.Hayashi/Library/Python/3.9/lib/python/site-packages/torchvision/image.so\n",
      "  Expected in:     <EBBC8B94-2FD8-3694-B341-8B60B237B8E9> /Users/Yusuke.Hayashi/Library/Python/3.9/lib/python/site-packages/torch/lib/libtorch_cpu.dylib\n",
      "  warn(f\"Failed to load image Python extension: {e}\")\n",
      "/Users/Yusuke.Hayashi/Library/Python/3.9/lib/python/site-packages/torchvision/io/image.py:13: UserWarning: Failed to load image Python extension: dlopen(/Users/Yusuke.Hayashi/Library/Python/3.9/lib/python/site-packages/torchvision/image.so, 0x0006): Symbol not found: __ZN2at4_ops19empty_memory_format4callEN3c108ArrayRefIxEENS2_8optionalINS2_10ScalarTypeEEENS5_INS2_6LayoutEEENS5_INS2_6DeviceEEENS5_IbEENS5_INS2_12MemoryFormatEEE\n",
      "  Referenced from: <8080486D-E510-3000-AA6A-F3AD49ACC172> /Users/Yusuke.Hayashi/Library/Python/3.9/lib/python/site-packages/torchvision/image.so\n",
      "  Expected in:     <EBBC8B94-2FD8-3694-B341-8B60B237B8E9> /Users/Yusuke.Hayashi/Library/Python/3.9/lib/python/site-packages/torch/lib/libtorch_cpu.dylib\n",
      "  warn(f\"Failed to load image Python extension: {e}\")\n"
     ]
    },
    {
     "name": "stdout",
     "output_type": "stream",
     "text": [
      "batch size: torch.Size([4, 3, 32, 32])\n",
      "torch.Size([4, 10])\n"
     ]
    }
   ],
   "source": [
    "## test the model with 1 batch\n",
    "model = CNN_with_Dropout()\n",
    "for images, labels in trainloader:\n",
    "    print(\"batch size:\", images.shape)\n",
    "    y_hat = model(images)\n",
    "    print(y_hat.shape)\n",
    "    break"
   ]
  },
  {
   "cell_type": "code",
   "execution_count": 13,
   "id": "4271bfca-e82e-452f-bd14-a49ad4ac0e51",
   "metadata": {},
   "outputs": [],
   "source": [
    "## compute accuracy\n",
    "def get_accuracy(logit, target, batch_size):\n",
    "    ''' Obtain accuracy for training round '''\n",
    "    corrects = (torch.max(logit, 1)[1].view(target.size()).data == target.data).sum()\n",
    "    accuracy = 100.0 * corrects/batch_size\n",
    "    return accuracy.item()"
   ]
  },
  {
   "cell_type": "code",
   "execution_count": null,
   "id": "a1eb2d80-4c51-48ce-a2b9-e488ad5ba8b0",
   "metadata": {},
   "outputs": [
    {
     "name": "stderr",
     "output_type": "stream",
     "text": [
      "/Users/Yusuke.Hayashi/Library/Python/3.9/lib/python/site-packages/torchvision/io/image.py:13: UserWarning: Failed to load image Python extension: dlopen(/Users/Yusuke.Hayashi/Library/Python/3.9/lib/python/site-packages/torchvision/image.so, 0x0006): Symbol not found: __ZN2at4_ops19empty_memory_format4callEN3c108ArrayRefIxEENS2_8optionalINS2_10ScalarTypeEEENS5_INS2_6LayoutEEENS5_INS2_6DeviceEEENS5_IbEENS5_INS2_12MemoryFormatEEE\n",
      "  Referenced from: <8080486D-E510-3000-AA6A-F3AD49ACC172> /Users/Yusuke.Hayashi/Library/Python/3.9/lib/python/site-packages/torchvision/image.so\n",
      "  Expected in:     <EBBC8B94-2FD8-3694-B341-8B60B237B8E9> /Users/Yusuke.Hayashi/Library/Python/3.9/lib/python/site-packages/torch/lib/libtorch_cpu.dylib\n",
      "  warn(f\"Failed to load image Python extension: {e}\")\n",
      "/Users/Yusuke.Hayashi/Library/Python/3.9/lib/python/site-packages/torchvision/io/image.py:13: UserWarning: Failed to load image Python extension: dlopen(/Users/Yusuke.Hayashi/Library/Python/3.9/lib/python/site-packages/torchvision/image.so, 0x0006): Symbol not found: __ZN2at4_ops19empty_memory_format4callEN3c108ArrayRefIxEENS2_8optionalINS2_10ScalarTypeEEENS5_INS2_6LayoutEEENS5_INS2_6DeviceEEENS5_IbEENS5_INS2_12MemoryFormatEEE\n",
      "  Referenced from: <8080486D-E510-3000-AA6A-F3AD49ACC172> /Users/Yusuke.Hayashi/Library/Python/3.9/lib/python/site-packages/torchvision/image.so\n",
      "  Expected in:     <EBBC8B94-2FD8-3694-B341-8B60B237B8E9> /Users/Yusuke.Hayashi/Library/Python/3.9/lib/python/site-packages/torch/lib/libtorch_cpu.dylib\n",
      "  warn(f\"Failed to load image Python extension: {e}\")\n",
      "/Users/Yusuke.Hayashi/Library/Python/3.9/lib/python/site-packages/torchvision/io/image.py:13: UserWarning: Failed to load image Python extension: dlopen(/Users/Yusuke.Hayashi/Library/Python/3.9/lib/python/site-packages/torchvision/image.so, 0x0006): Symbol not found: __ZN2at4_ops19empty_memory_format4callEN3c108ArrayRefIxEENS2_8optionalINS2_10ScalarTypeEEENS5_INS2_6LayoutEEENS5_INS2_6DeviceEEENS5_IbEENS5_INS2_12MemoryFormatEEE\n",
      "  Referenced from: <8080486D-E510-3000-AA6A-F3AD49ACC172> /Users/Yusuke.Hayashi/Library/Python/3.9/lib/python/site-packages/torchvision/image.so\n",
      "  Expected in:     <EBBC8B94-2FD8-3694-B341-8B60B237B8E9> /Users/Yusuke.Hayashi/Library/Python/3.9/lib/python/site-packages/torch/lib/libtorch_cpu.dylib\n",
      "  warn(f\"Failed to load image Python extension: {e}\")\n",
      "/Users/Yusuke.Hayashi/Library/Python/3.9/lib/python/site-packages/torchvision/io/image.py:13: UserWarning: Failed to load image Python extension: dlopen(/Users/Yusuke.Hayashi/Library/Python/3.9/lib/python/site-packages/torchvision/image.so, 0x0006): Symbol not found: __ZN2at4_ops19empty_memory_format4callEN3c108ArrayRefIxEENS2_8optionalINS2_10ScalarTypeEEENS5_INS2_6LayoutEEENS5_INS2_6DeviceEEENS5_IbEENS5_INS2_12MemoryFormatEEE\n",
      "  Referenced from: <8080486D-E510-3000-AA6A-F3AD49ACC172> /Users/Yusuke.Hayashi/Library/Python/3.9/lib/python/site-packages/torchvision/image.so\n",
      "  Expected in:     <EBBC8B94-2FD8-3694-B341-8B60B237B8E9> /Users/Yusuke.Hayashi/Library/Python/3.9/lib/python/site-packages/torch/lib/libtorch_cpu.dylib\n",
      "  warn(f\"Failed to load image Python extension: {e}\")\n",
      "/Users/Yusuke.Hayashi/Library/Python/3.9/lib/python/site-packages/torchvision/io/image.py:13: UserWarning: Failed to load image Python extension: dlopen(/Users/Yusuke.Hayashi/Library/Python/3.9/lib/python/site-packages/torchvision/image.so, 0x0006): Symbol not found: __ZN2at4_ops19empty_memory_format4callEN3c108ArrayRefIxEENS2_8optionalINS2_10ScalarTypeEEENS5_INS2_6LayoutEEENS5_INS2_6DeviceEEENS5_IbEENS5_INS2_12MemoryFormatEEE\n",
      "  Referenced from: <8080486D-E510-3000-AA6A-F3AD49ACC172> /Users/Yusuke.Hayashi/Library/Python/3.9/lib/python/site-packages/torchvision/image.so\n",
      "  Expected in:     <EBBC8B94-2FD8-3694-B341-8B60B237B8E9> /Users/Yusuke.Hayashi/Library/Python/3.9/lib/python/site-packages/torch/lib/libtorch_cpu.dylib\n",
      "  warn(f\"Failed to load image Python extension: {e}\")\n",
      "/Users/Yusuke.Hayashi/Library/Python/3.9/lib/python/site-packages/torchvision/io/image.py:13: UserWarning: Failed to load image Python extension: dlopen(/Users/Yusuke.Hayashi/Library/Python/3.9/lib/python/site-packages/torchvision/image.so, 0x0006): Symbol not found: __ZN2at4_ops19empty_memory_format4callEN3c108ArrayRefIxEENS2_8optionalINS2_10ScalarTypeEEENS5_INS2_6LayoutEEENS5_INS2_6DeviceEEENS5_IbEENS5_INS2_12MemoryFormatEEE\n",
      "  Referenced from: <8080486D-E510-3000-AA6A-F3AD49ACC172> /Users/Yusuke.Hayashi/Library/Python/3.9/lib/python/site-packages/torchvision/image.so\n",
      "  Expected in:     <EBBC8B94-2FD8-3694-B341-8B60B237B8E9> /Users/Yusuke.Hayashi/Library/Python/3.9/lib/python/site-packages/torch/lib/libtorch_cpu.dylib\n",
      "  warn(f\"Failed to load image Python extension: {e}\")\n"
     ]
    }
   ],
   "source": [
    "# エポック数\n",
    "epochs = 10\n",
    "# 学習率\n",
    "learning_rate = 0.0001\n",
    "\n",
    "model.to(device)\n",
    "criterion = nn.CrossEntropyLoss()\n",
    "optimizer = optim.SGD(model.parameters(), lr=learning_rate, momentum=0.9)\n",
    "\n",
    "train_loss = []\n",
    "train_accuracy = []\n",
    "test_loss = []\n",
    "test_accuracy = []\n",
    "for epoch in range(epochs):\n",
    "    # モデルの訓練\n",
    "    model.train()\n",
    "    temp_train_loss = []\n",
    "    temp_train_acc = []\n",
    "    for i, (images, labels) in enumerate(trainloader):\n",
    "        labels_pred = model(images)\n",
    "        loss = criterion(labels_pred, labels)\n",
    "        optimizer.zero_grad()\n",
    "        loss.backward()\n",
    "        optimizer.step()\n",
    "        temp_train_loss.append(loss.detach())\n",
    "        temp_acc = get_accuracy(labels_pred, labels, batch_size)\n",
    "        temp_train_acc.append(temp_acc) \n",
    "    train_loss.append(np.average(temp_train_loss))    # 訓練誤差をリストに保存\n",
    "    train_accuracy.append(np.average(temp_train_acc)) # 予測性能をリストに保存\n",
    "    # モデルの評価\n",
    "    model.eval()\n",
    "    temp_test_loss = []\n",
    "    temp_test_acc = []\n",
    "    for i, (images, labels) in enumerate(testloader):    \n",
    "        labels_pred = model(images)\n",
    "        loss = criterion(labels_pred, labels)\n",
    "        temp_test_loss.append(loss.detach())\n",
    "        temp_acc = get_accuracy(labels_pred, labels, batch_size)\n",
    "        temp_test_acc.append(temp_acc) \n",
    "    test_loss.append(np.average(temp_test_loss))    # 訓練誤差をリストに保存\n",
    "    test_accuracy.append(np.average(temp_test_acc)) # 訓練誤差をリストに保存"
   ]
  },
  {
   "cell_type": "markdown",
   "id": "e7df16e4-38f3-4f6c-8e59-bf3a0fbd76be",
   "metadata": {},
   "source": [
    "### **2.　重み減衰**"
   ]
  },
  {
   "cell_type": "markdown",
   "id": "13d6286b-f7ab-43fe-b5a0-fe589c2335e4",
   "metadata": {},
   "source": [
    "##### **問2：L2正則化の実装**\n",
    "MNISTを学習するCNNモデルを作成し，学習時にL2正則化を適用してください．\n",
    "\n",
    "##### **例1**"
   ]
  },
  {
   "cell_type": "code",
   "execution_count": null,
   "id": "c911e2db-8a25-45e9-a116-fd0844cbd276",
   "metadata": {},
   "outputs": [],
   "source": [
    "## test the model with 1 batch\n",
    "model = CNN_with_Dropout()\n",
    "for images, labels in trainloader:\n",
    "    print(\"batch size:\", images.shape)\n",
    "    y_hat = model(images)\n",
    "    print(y_hat.shape)\n",
    "    break"
   ]
  },
  {
   "cell_type": "code",
   "execution_count": null,
   "id": "e0900901-d8d3-42b5-a6fc-f7cf10d7d72c",
   "metadata": {},
   "outputs": [],
   "source": [
    "# エポック数\n",
    "epochs = 10\n",
    "# 学習率\n",
    "learning_rate = 0.0001\n",
    "\n",
    "model.to(device)\n",
    "criterion = nn.CrossEntropyLoss()\n",
    "optimizer = optim.SGD(model.parameters(), lr=learning_rate, momentum=0.9, weight_decay=0.001)\n",
    "\n",
    "train_loss = []\n",
    "train_accuracy = []\n",
    "test_loss = []\n",
    "test_accuracy = []\n",
    "for epoch in range(epochs):\n",
    "    # モデルの訓練\n",
    "    model.train()\n",
    "    temp_train_loss = []\n",
    "    temp_train_acc = []\n",
    "    for i, (images, labels) in enumerate(trainloader):\n",
    "        labels_pred = model(images)\n",
    "        loss = criterion(labels_pred, labels)\n",
    "        optimizer.zero_grad()\n",
    "        loss.backward()\n",
    "        optimizer.step()\n",
    "        temp_train_loss.append(loss.detach())\n",
    "        temp_acc = get_accuracy(labels_pred, labels, batch_size)\n",
    "        temp_train_acc.append(temp_acc) \n",
    "    train_loss.append(np.average(temp_train_loss))    # 訓練誤差をリストに保存\n",
    "    train_accuracy.append(np.average(temp_train_acc)) # 予測性能をリストに保存\n",
    "    # モデルの評価\n",
    "    model.eval()\n",
    "    temp_test_loss = []\n",
    "    temp_test_acc = []\n",
    "    for i, (images, labels) in enumerate(testloader):    \n",
    "        labels_pred = model(images)\n",
    "        loss = criterion(labels_pred, labels)\n",
    "        temp_test_loss.append(loss.detach())\n",
    "        temp_acc = get_accuracy(labels_pred, labels, batch_size)\n",
    "        temp_test_acc.append(temp_acc) \n",
    "    test_loss.append(np.average(temp_test_loss))    # 訓練誤差をリストに保存\n",
    "    test_accuracy.append(np.average(temp_test_acc)) # 訓練誤差をリストに保存"
   ]
  },
  {
   "cell_type": "code",
   "execution_count": null,
   "id": "de6e0cd3-c25f-4ff1-a902-daaca0acc963",
   "metadata": {},
   "outputs": [],
   "source": [
    "%load_ext watermark\n",
    "%watermark --iversions"
   ]
  },
  {
   "cell_type": "code",
   "execution_count": null,
   "id": "a608e09b-6812-417a-b6ad-6f5a9bb6c28e",
   "metadata": {},
   "outputs": [],
   "source": []
  }
 ],
 "metadata": {
  "kernelspec": {
   "display_name": "Python 3 (ipykernel)",
   "language": "python",
   "name": "python3"
  },
  "language_info": {
   "codemirror_mode": {
    "name": "ipython",
    "version": 3
   },
   "file_extension": ".py",
   "mimetype": "text/x-python",
   "name": "python",
   "nbconvert_exporter": "python",
   "pygments_lexer": "ipython3",
   "version": "3.9.6"
  }
 },
 "nbformat": 4,
 "nbformat_minor": 5
}
